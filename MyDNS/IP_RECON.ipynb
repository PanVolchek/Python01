{
 "cells": [
  {
   "cell_type": "code",
   "execution_count": 197,
   "metadata": {},
   "outputs": [],
   "source": [
    "import os\n",
    "import pandas as pd\n",
    "##import ipaddress as IP_ADDR\n",
    "ip_address = pd.read_csv('Ip_addr.csv')\n",
    "processes = pd.read_csv('process.csv')\n",
    "netstat = pd.read_csv('netstat.csv')\n"
   ]
  },
  {
   "cell_type": "code",
   "execution_count": 198,
   "metadata": {
    "tags": []
   },
   "outputs": [
    {
     "output_type": "execute_result",
     "data": {
      "text/plain": "      id          source        local     destination  PID\n12  13.0  10.10.10.06:12  10.10.10.02             NaN   12\n13  14.0  10.10.10.05:12      0.0.0.0             NaN   11\n14  15.0  10.10.10.06:12      0.0.0.0             NaN   33\n15  16.0             NaN  10.10.10.02  10.10.10.02:12   32\n16   NaN             NaN      0.0.0.0  10.10.10.06:12   23",
      "text/html": "<div>\n<style scoped>\n    .dataframe tbody tr th:only-of-type {\n        vertical-align: middle;\n    }\n\n    .dataframe tbody tr th {\n        vertical-align: top;\n    }\n\n    .dataframe thead th {\n        text-align: right;\n    }\n</style>\n<table border=\"1\" class=\"dataframe\">\n  <thead>\n    <tr style=\"text-align: right;\">\n      <th></th>\n      <th>id</th>\n      <th>source</th>\n      <th>local</th>\n      <th>destination</th>\n      <th>PID</th>\n    </tr>\n  </thead>\n  <tbody>\n    <tr>\n      <th>12</th>\n      <td>13.0</td>\n      <td>10.10.10.06:12</td>\n      <td>10.10.10.02</td>\n      <td>NaN</td>\n      <td>12</td>\n    </tr>\n    <tr>\n      <th>13</th>\n      <td>14.0</td>\n      <td>10.10.10.05:12</td>\n      <td>0.0.0.0</td>\n      <td>NaN</td>\n      <td>11</td>\n    </tr>\n    <tr>\n      <th>14</th>\n      <td>15.0</td>\n      <td>10.10.10.06:12</td>\n      <td>0.0.0.0</td>\n      <td>NaN</td>\n      <td>33</td>\n    </tr>\n    <tr>\n      <th>15</th>\n      <td>16.0</td>\n      <td>NaN</td>\n      <td>10.10.10.02</td>\n      <td>10.10.10.02:12</td>\n      <td>32</td>\n    </tr>\n    <tr>\n      <th>16</th>\n      <td>NaN</td>\n      <td>NaN</td>\n      <td>0.0.0.0</td>\n      <td>10.10.10.06:12</td>\n      <td>23</td>\n    </tr>\n  </tbody>\n</table>\n</div>"
     },
     "metadata": {},
     "execution_count": 198
    }
   ],
   "source": [
    "netstat.tail()"
   ]
  },
  {
   "cell_type": "code",
   "execution_count": 199,
   "metadata": {},
   "outputs": [
    {
     "output_type": "execute_result",
     "data": {
      "text/plain": "   id  process   PID\n0   1       p1    12\n1   2       p2    23\n2   3       p3    13\n3   4       p4    23\n4   5       p5    33",
      "text/html": "<div>\n<style scoped>\n    .dataframe tbody tr th:only-of-type {\n        vertical-align: middle;\n    }\n\n    .dataframe tbody tr th {\n        vertical-align: top;\n    }\n\n    .dataframe thead th {\n        text-align: right;\n    }\n</style>\n<table border=\"1\" class=\"dataframe\">\n  <thead>\n    <tr style=\"text-align: right;\">\n      <th></th>\n      <th>id</th>\n      <th>process</th>\n      <th>PID</th>\n    </tr>\n  </thead>\n  <tbody>\n    <tr>\n      <th>0</th>\n      <td>1</td>\n      <td>p1</td>\n      <td>12</td>\n    </tr>\n    <tr>\n      <th>1</th>\n      <td>2</td>\n      <td>p2</td>\n      <td>23</td>\n    </tr>\n    <tr>\n      <th>2</th>\n      <td>3</td>\n      <td>p3</td>\n      <td>13</td>\n    </tr>\n    <tr>\n      <th>3</th>\n      <td>4</td>\n      <td>p4</td>\n      <td>23</td>\n    </tr>\n    <tr>\n      <th>4</th>\n      <td>5</td>\n      <td>p5</td>\n      <td>33</td>\n    </tr>\n  </tbody>\n</table>\n</div>"
     },
     "metadata": {},
     "execution_count": 199
    }
   ],
   "source": [
    "\n",
    "processes.head()"
   ]
  },
  {
   "cell_type": "code",
   "execution_count": 200,
   "metadata": {},
   "outputs": [
    {
     "output_type": "execute_result",
     "data": {
      "text/plain": "   id           ip hostname   app\n0   1  10.10.10.01    Host1  App1\n2   3  10.10.10.03    Host3  App1",
      "text/html": "<div>\n<style scoped>\n    .dataframe tbody tr th:only-of-type {\n        vertical-align: middle;\n    }\n\n    .dataframe tbody tr th {\n        vertical-align: top;\n    }\n\n    .dataframe thead th {\n        text-align: right;\n    }\n</style>\n<table border=\"1\" class=\"dataframe\">\n  <thead>\n    <tr style=\"text-align: right;\">\n      <th></th>\n      <th>id</th>\n      <th>ip</th>\n      <th>hostname</th>\n      <th>app</th>\n    </tr>\n  </thead>\n  <tbody>\n    <tr>\n      <th>0</th>\n      <td>1</td>\n      <td>10.10.10.01</td>\n      <td>Host1</td>\n      <td>App1</td>\n    </tr>\n    <tr>\n      <th>2</th>\n      <td>3</td>\n      <td>10.10.10.03</td>\n      <td>Host3</td>\n      <td>App1</td>\n    </tr>\n  </tbody>\n</table>\n</div>"
     },
     "metadata": {},
     "execution_count": 200
    }
   ],
   "source": [
    "ip_address[ip_address['app'] =='App1'].head()"
   ]
  },
  {
   "cell_type": "code",
   "execution_count": 201,
   "metadata": {},
   "outputs": [],
   "source": [
    "def dns_find(ip_port):\n",
    "    ip = ip_port.split(\":\")\n",
    "    return ip"
   ]
  },
  {
   "cell_type": "code",
   "execution_count": 202,
   "metadata": {},
   "outputs": [
    {
     "output_type": "execute_result",
     "data": {
      "text/plain": "['10.10.10.06', '33']"
     },
     "metadata": {},
     "execution_count": 202
    }
   ],
   "source": [
    "dns_find('10.10.10.06:33')"
   ]
  },
  {
   "cell_type": "code",
   "execution_count": 203,
   "metadata": {},
   "outputs": [],
   "source": [
    "##netstat.loc[:, 'destination'] = netstat['destination'].str.split(':')"
   ]
  },
  {
   "cell_type": "code",
   "execution_count": 204,
   "metadata": {
    "tags": []
   },
   "outputs": [
    {
     "output_type": "execute_result",
     "data": {
      "text/plain": "    id source        local     destination  PID\n0  1.0    NaN      0.0.0.0  10.10.10.06:33   12\n1  2.0    NaN      0.0.0.0  10.10.10.05:33   23\n2  3.0    NaN      0.0.0.0  10.10.10.07:33   33\n3  4.0    NaN      0.0.0.0  10.10.10.07:33   33\n4  5.0    NaN  10.10.10.02  10.10.10.67:33   23",
      "text/html": "<div>\n<style scoped>\n    .dataframe tbody tr th:only-of-type {\n        vertical-align: middle;\n    }\n\n    .dataframe tbody tr th {\n        vertical-align: top;\n    }\n\n    .dataframe thead th {\n        text-align: right;\n    }\n</style>\n<table border=\"1\" class=\"dataframe\">\n  <thead>\n    <tr style=\"text-align: right;\">\n      <th></th>\n      <th>id</th>\n      <th>source</th>\n      <th>local</th>\n      <th>destination</th>\n      <th>PID</th>\n    </tr>\n  </thead>\n  <tbody>\n    <tr>\n      <th>0</th>\n      <td>1.0</td>\n      <td>NaN</td>\n      <td>0.0.0.0</td>\n      <td>10.10.10.06:33</td>\n      <td>12</td>\n    </tr>\n    <tr>\n      <th>1</th>\n      <td>2.0</td>\n      <td>NaN</td>\n      <td>0.0.0.0</td>\n      <td>10.10.10.05:33</td>\n      <td>23</td>\n    </tr>\n    <tr>\n      <th>2</th>\n      <td>3.0</td>\n      <td>NaN</td>\n      <td>0.0.0.0</td>\n      <td>10.10.10.07:33</td>\n      <td>33</td>\n    </tr>\n    <tr>\n      <th>3</th>\n      <td>4.0</td>\n      <td>NaN</td>\n      <td>0.0.0.0</td>\n      <td>10.10.10.07:33</td>\n      <td>33</td>\n    </tr>\n    <tr>\n      <th>4</th>\n      <td>5.0</td>\n      <td>NaN</td>\n      <td>10.10.10.02</td>\n      <td>10.10.10.67:33</td>\n      <td>23</td>\n    </tr>\n  </tbody>\n</table>\n</div>"
     },
     "metadata": {},
     "execution_count": 204
    }
   ],
   "source": [
    "netstat.head()"
   ]
  },
  {
   "cell_type": "code",
   "execution_count": 210,
   "metadata": {},
   "outputs": [],
   "source": [
    "netstat['sou_IP'], netstat['sou_port'] = netstat['source'].str.split(':', 1).str"
   ]
  },
  {
   "cell_type": "code",
   "execution_count": 211,
   "metadata": {},
   "outputs": [
    {
     "output_type": "execute_result",
     "data": {
      "text/plain": "      id          source        local     destination  PID       Sou_IP  \\\n12  13.0  10.10.10.06:12  10.10.10.02             NaN   12  10.10.10.06   \n13  14.0  10.10.10.05:12      0.0.0.0             NaN   11  10.10.10.05   \n14  15.0  10.10.10.06:12      0.0.0.0             NaN   33  10.10.10.06   \n15  16.0             NaN  10.10.10.02  10.10.10.02:12   32          NaN   \n16   NaN             NaN      0.0.0.0  10.10.10.06:12   23          NaN   \n\n   Sou_port       sou_IP sou_port  \n12       12  10.10.10.06       12  \n13       12  10.10.10.05       12  \n14       12  10.10.10.06       12  \n15      NaN          NaN      NaN  \n16      NaN          NaN      NaN  ",
      "text/html": "<div>\n<style scoped>\n    .dataframe tbody tr th:only-of-type {\n        vertical-align: middle;\n    }\n\n    .dataframe tbody tr th {\n        vertical-align: top;\n    }\n\n    .dataframe thead th {\n        text-align: right;\n    }\n</style>\n<table border=\"1\" class=\"dataframe\">\n  <thead>\n    <tr style=\"text-align: right;\">\n      <th></th>\n      <th>id</th>\n      <th>source</th>\n      <th>local</th>\n      <th>destination</th>\n      <th>PID</th>\n      <th>Sou_IP</th>\n      <th>Sou_port</th>\n      <th>sou_IP</th>\n      <th>sou_port</th>\n    </tr>\n  </thead>\n  <tbody>\n    <tr>\n      <th>12</th>\n      <td>13.0</td>\n      <td>10.10.10.06:12</td>\n      <td>10.10.10.02</td>\n      <td>NaN</td>\n      <td>12</td>\n      <td>10.10.10.06</td>\n      <td>12</td>\n      <td>10.10.10.06</td>\n      <td>12</td>\n    </tr>\n    <tr>\n      <th>13</th>\n      <td>14.0</td>\n      <td>10.10.10.05:12</td>\n      <td>0.0.0.0</td>\n      <td>NaN</td>\n      <td>11</td>\n      <td>10.10.10.05</td>\n      <td>12</td>\n      <td>10.10.10.05</td>\n      <td>12</td>\n    </tr>\n    <tr>\n      <th>14</th>\n      <td>15.0</td>\n      <td>10.10.10.06:12</td>\n      <td>0.0.0.0</td>\n      <td>NaN</td>\n      <td>33</td>\n      <td>10.10.10.06</td>\n      <td>12</td>\n      <td>10.10.10.06</td>\n      <td>12</td>\n    </tr>\n    <tr>\n      <th>15</th>\n      <td>16.0</td>\n      <td>NaN</td>\n      <td>10.10.10.02</td>\n      <td>10.10.10.02:12</td>\n      <td>32</td>\n      <td>NaN</td>\n      <td>NaN</td>\n      <td>NaN</td>\n      <td>NaN</td>\n    </tr>\n    <tr>\n      <th>16</th>\n      <td>NaN</td>\n      <td>NaN</td>\n      <td>0.0.0.0</td>\n      <td>10.10.10.06:12</td>\n      <td>23</td>\n      <td>NaN</td>\n      <td>NaN</td>\n      <td>NaN</td>\n      <td>NaN</td>\n    </tr>\n  </tbody>\n</table>\n</div>"
     },
     "metadata": {},
     "execution_count": 211
    }
   ],
   "source": [
    "netstat.tail()\n"
   ]
  },
  {
   "cell_type": "code",
   "execution_count": 212,
   "metadata": {},
   "outputs": [],
   "source": [
    "netstat['dest_IP'], netstat['dest_port'] = netstat['destination'].str.split(':', 1).str"
   ]
  },
  {
   "cell_type": "code",
   "execution_count": 225,
   "metadata": {},
   "outputs": [
    {
     "output_type": "execute_result",
     "data": {
      "text/plain": "      id          source        local     destination  PID       Sou_IP  \\\n0    1.0             NaN      0.0.0.0  10.10.10.06:33   12          NaN   \n5    6.0             NaN  10.10.10.02  10.10.10.99:33   12          NaN   \n6    7.0  10.10.10.01:55      0.0.0.0             NaN   12  10.10.10.01   \n11  12.0  10.10.10.06:33  10.10.10.02             NaN   12  10.10.10.06   \n12  13.0  10.10.10.06:12  10.10.10.02             NaN   12  10.10.10.06   \n\n   Sou_port       sou_IP sou_port      dest_IP dest_port sou_host  \n0       NaN          NaN      NaN  10.10.10.06        33      NaN  \n5       NaN          NaN      NaN  10.10.10.99        33      NaN  \n6        55  10.10.10.01       55          NaN       NaN    Host1  \n11       33  10.10.10.06       33          NaN       NaN    Host6  \n12       12  10.10.10.06       12          NaN       NaN    Host6  ",
      "text/html": "<div>\n<style scoped>\n    .dataframe tbody tr th:only-of-type {\n        vertical-align: middle;\n    }\n\n    .dataframe tbody tr th {\n        vertical-align: top;\n    }\n\n    .dataframe thead th {\n        text-align: right;\n    }\n</style>\n<table border=\"1\" class=\"dataframe\">\n  <thead>\n    <tr style=\"text-align: right;\">\n      <th></th>\n      <th>id</th>\n      <th>source</th>\n      <th>local</th>\n      <th>destination</th>\n      <th>PID</th>\n      <th>Sou_IP</th>\n      <th>Sou_port</th>\n      <th>sou_IP</th>\n      <th>sou_port</th>\n      <th>dest_IP</th>\n      <th>dest_port</th>\n      <th>sou_host</th>\n    </tr>\n  </thead>\n  <tbody>\n    <tr>\n      <th>0</th>\n      <td>1.0</td>\n      <td>NaN</td>\n      <td>0.0.0.0</td>\n      <td>10.10.10.06:33</td>\n      <td>12</td>\n      <td>NaN</td>\n      <td>NaN</td>\n      <td>NaN</td>\n      <td>NaN</td>\n      <td>10.10.10.06</td>\n      <td>33</td>\n      <td>NaN</td>\n    </tr>\n    <tr>\n      <th>5</th>\n      <td>6.0</td>\n      <td>NaN</td>\n      <td>10.10.10.02</td>\n      <td>10.10.10.99:33</td>\n      <td>12</td>\n      <td>NaN</td>\n      <td>NaN</td>\n      <td>NaN</td>\n      <td>NaN</td>\n      <td>10.10.10.99</td>\n      <td>33</td>\n      <td>NaN</td>\n    </tr>\n    <tr>\n      <th>6</th>\n      <td>7.0</td>\n      <td>10.10.10.01:55</td>\n      <td>0.0.0.0</td>\n      <td>NaN</td>\n      <td>12</td>\n      <td>10.10.10.01</td>\n      <td>55</td>\n      <td>10.10.10.01</td>\n      <td>55</td>\n      <td>NaN</td>\n      <td>NaN</td>\n      <td>Host1</td>\n    </tr>\n    <tr>\n      <th>11</th>\n      <td>12.0</td>\n      <td>10.10.10.06:33</td>\n      <td>10.10.10.02</td>\n      <td>NaN</td>\n      <td>12</td>\n      <td>10.10.10.06</td>\n      <td>33</td>\n      <td>10.10.10.06</td>\n      <td>33</td>\n      <td>NaN</td>\n      <td>NaN</td>\n      <td>Host6</td>\n    </tr>\n    <tr>\n      <th>12</th>\n      <td>13.0</td>\n      <td>10.10.10.06:12</td>\n      <td>10.10.10.02</td>\n      <td>NaN</td>\n      <td>12</td>\n      <td>10.10.10.06</td>\n      <td>12</td>\n      <td>10.10.10.06</td>\n      <td>12</td>\n      <td>NaN</td>\n      <td>NaN</td>\n      <td>Host6</td>\n    </tr>\n  </tbody>\n</table>\n</div>"
     },
     "metadata": {},
     "execution_count": 225
    }
   ],
   "source": [
    "##netstat[netstat['PID' == 12]['PID', 'sou_IP']]\n",
    "netstat[netstat['PID'] ==12].head()"
   ]
  },
  {
   "cell_type": "code",
   "execution_count": 221,
   "metadata": {},
   "outputs": [],
   "source": [
    "ip_mapping = dict(ip_address[['ip', 'hostname']].values)"
   ]
  },
  {
   "cell_type": "code",
   "execution_count": 222,
   "metadata": {},
   "outputs": [
    {
     "output_type": "execute_result",
     "data": {
      "text/plain": "{'10.10.10.01': 'Host1',\n '10.10.10.02': 'Host2',\n '10.10.10.03': 'Host3',\n '10.10.10.04': 'Host4',\n '10.10.10.05': 'Host5',\n '10.10.10.06': 'Host6'}"
     },
     "metadata": {},
     "execution_count": 222
    }
   ],
   "source": [
    "ip_mapping"
   ]
  },
  {
   "cell_type": "code",
   "execution_count": 224,
   "metadata": {},
   "outputs": [],
   "source": [
    "netstat['sou_host'] = netstat.sou_IP.map(ip_mapping)"
   ]
  },
  {
   "cell_type": "code",
   "execution_count": 227,
   "metadata": {},
   "outputs": [
    {
     "output_type": "execute_result",
     "data": {
      "text/plain": "      id          source        local destination  PID       Sou_IP Sou_port  \\\n10  11.0  10.10.10.05:77  10.10.10.02         NaN   23  10.10.10.05       77   \n13  14.0  10.10.10.05:12      0.0.0.0         NaN   11  10.10.10.05       12   \n\n         sou_IP sou_port dest_IP dest_port sou_host  \n10  10.10.10.05       77     NaN       NaN    Host5  \n13  10.10.10.05       12     NaN       NaN    Host5  ",
      "text/html": "<div>\n<style scoped>\n    .dataframe tbody tr th:only-of-type {\n        vertical-align: middle;\n    }\n\n    .dataframe tbody tr th {\n        vertical-align: top;\n    }\n\n    .dataframe thead th {\n        text-align: right;\n    }\n</style>\n<table border=\"1\" class=\"dataframe\">\n  <thead>\n    <tr style=\"text-align: right;\">\n      <th></th>\n      <th>id</th>\n      <th>source</th>\n      <th>local</th>\n      <th>destination</th>\n      <th>PID</th>\n      <th>Sou_IP</th>\n      <th>Sou_port</th>\n      <th>sou_IP</th>\n      <th>sou_port</th>\n      <th>dest_IP</th>\n      <th>dest_port</th>\n      <th>sou_host</th>\n    </tr>\n  </thead>\n  <tbody>\n    <tr>\n      <th>10</th>\n      <td>11.0</td>\n      <td>10.10.10.05:77</td>\n      <td>10.10.10.02</td>\n      <td>NaN</td>\n      <td>23</td>\n      <td>10.10.10.05</td>\n      <td>77</td>\n      <td>10.10.10.05</td>\n      <td>77</td>\n      <td>NaN</td>\n      <td>NaN</td>\n      <td>Host5</td>\n    </tr>\n    <tr>\n      <th>13</th>\n      <td>14.0</td>\n      <td>10.10.10.05:12</td>\n      <td>0.0.0.0</td>\n      <td>NaN</td>\n      <td>11</td>\n      <td>10.10.10.05</td>\n      <td>12</td>\n      <td>10.10.10.05</td>\n      <td>12</td>\n      <td>NaN</td>\n      <td>NaN</td>\n      <td>Host5</td>\n    </tr>\n  </tbody>\n</table>\n</div>"
     },
     "metadata": {},
     "execution_count": 227
    }
   ],
   "source": [
    "netstat[netstat['sou_host'] =='Host5'].head()"
   ]
  },
  {
   "cell_type": "code",
   "execution_count": 239,
   "metadata": {},
   "outputs": [
    {
     "output_type": "execute_result",
     "data": {
      "text/plain": "<bound method DataFrame.lookup of    id           ip hostname   app\n0   1  10.10.10.01    Host1  App1\n1   2  10.10.10.02    Host2  App2\n2   3  10.10.10.03    Host3  App1\n3   4  10.10.10.04    Host4  App3\n4   5  10.10.10.05    Host5  App3\n5   6  10.10.10.06    Host6  App4>"
     },
     "metadata": {},
     "execution_count": 239
    }
   ],
   "source": [
    "ip_address.lookup"
   ]
  },
  {
   "cell_type": "code",
   "execution_count": null,
   "metadata": {},
   "outputs": [],
   "source": []
  }
 ],
 "metadata": {
  "kernelspec": {
   "display_name": "Python 3",
   "language": "python",
   "name": "python3"
  },
  "language_info": {
   "codemirror_mode": {
    "name": "ipython",
    "version": 3
   },
   "file_extension": ".py",
   "mimetype": "text/x-python",
   "name": "python",
   "nbconvert_exporter": "python",
   "pygments_lexer": "ipython3",
   "version": "3.7.5-final"
  }
 },
 "nbformat": 4,
 "nbformat_minor": 2
}